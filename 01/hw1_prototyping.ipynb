{
  "cells": [
    {
      "cell_type": "code",
      "source": [
        "# возвращает кортеж из (int, str)\n",
        "def convert_to_tuple(line):\n",
        "    tmp = line.split()\n",
        "    return (int(tmp[0]), tmp[1])\n",
        "\n",
        "\n",
        "def partition(arr, low, high, key):\n",
        "    pivot = key(arr[high])\n",
        "    i = low - 1\n",
        "    for j in range(low, high):\n",
        "        if key(arr[j]) <= pivot:\n",
        "            i += 1\n",
        "            arr[i], arr[j] = arr[j], arr[i]\n",
        "    arr[i+1], arr[high] = arr[high], arr[i+1]\n",
        "    return i + 1\n",
        "\n",
        "\n",
        "def quick_sort(arr, low, high, key):\n",
        "    if low < high:\n",
        "        q = partition(arr, low, high, key)\n",
        "        quick_sort(arr, low, q-1, key)\n",
        "        quick_sort(arr, q+1, high, key)\n",
        "\n",
        "\n",
        "def quick_sort_and_partition(arr, key):\n",
        "    high = len(arr) - 1\n",
        "    low = 0\n",
        "    quick_sort(arr, low, high, key)\n",
        "\n",
        "\n",
        "def data_reading(lst, filename):\n",
        "    with open(filename, 'r') as file:\n",
        "        for line in file:\n",
        "            lst.append(convert_to_tuple(line))\n",
        "\n",
        "\n",
        "test_data = []\n",
        "data_reading(test_data, 'original_data.txt')\n",
        "\n",
        "print('original data')\n",
        "display(test_data)      # функция display есть только в ноутбуках\n",
        "print()\n",
        "\n",
        "quick_sort_and_partition(test_data, key=lambda x: x[0])\n",
        "print('sorted data')\n",
        "display(test_data)"
      ],
      "metadata": {
        "colab": {
          "base_uri": "https://localhost:8080/",
          "height": 451
        },
        "id": "cBpYZBobHQ5t",
        "outputId": "bb0e14db-9b61-4465-bb36-9aef682ff831"
      },
      "execution_count": 35,
      "outputs": [
        {
          "output_type": "stream",
          "name": "stdout",
          "text": [
            "original data\n"
          ]
        },
        {
          "output_type": "display_data",
          "data": {
            "text/plain": [
              "[(7, 'kbGoAaUhkK'),\n",
              " (46, 'BOhMMCiuwz'),\n",
              " (47, 'LiFMOIUcap'),\n",
              " (49, 'GJKyXNJuPN'),\n",
              " (19, 'fTrZaHKFkk'),\n",
              " (31, 'dgiFATToGK'),\n",
              " (21, 'JdSdjJlULL'),\n",
              " (32, 'sOWjfXtcCt'),\n",
              " (27, 'VPtRFmWgCI'),\n",
              " (6, 'vXANxciIts'),\n",
              " (21, 'VebHNUjWyG')]"
            ]
          },
          "metadata": {}
        },
        {
          "output_type": "stream",
          "name": "stdout",
          "text": [
            "\n",
            "sorted data\n"
          ]
        },
        {
          "output_type": "display_data",
          "data": {
            "text/plain": [
              "[(6, 'vXANxciIts'),\n",
              " (7, 'kbGoAaUhkK'),\n",
              " (19, 'fTrZaHKFkk'),\n",
              " (21, 'JdSdjJlULL'),\n",
              " (21, 'VebHNUjWyG'),\n",
              " (27, 'VPtRFmWgCI'),\n",
              " (31, 'dgiFATToGK'),\n",
              " (32, 'sOWjfXtcCt'),\n",
              " (46, 'BOhMMCiuwz'),\n",
              " (47, 'LiFMOIUcap'),\n",
              " (49, 'GJKyXNJuPN')]"
            ]
          },
          "metadata": {}
        }
      ]
    },
    {
      "cell_type": "markdown",
      "source": [
        "генерация данных для тестов"
      ],
      "metadata": {
        "id": "zOsYEIWVJgwr"
      }
    },
    {
      "cell_type": "code",
      "source": [
        "import random\n",
        "import string"
      ],
      "metadata": {
        "id": "b9gZZbXbU8Pj"
      },
      "execution_count": 36,
      "outputs": []
    },
    {
      "cell_type": "code",
      "source": [
        "# order == 'random' --> рандомный порядок элементов в массиве\n",
        "# order == 'reverse' --> обратный порядок элементов в массиве\n",
        "# order is None --> много элементов с одинаковыми ключами\n",
        "\n",
        "def generate_data(lines, length, order=['random', 'reverse', None], max_value=100):\n",
        "    random_lines = []\n",
        "    numbers = list(range(lines))\n",
        "    if order == 'random':\n",
        "        random.shuffle(numbers)\n",
        "    if order == 'reverse':\n",
        "        numbers = numbers[::-1]\n",
        "    if order is None:\n",
        "        numbers = [random.randint(0, max_value) for _ in range(lines)]\n",
        "\n",
        "    for i in range(lines):\n",
        "        number = str(numbers[i])\n",
        "        letters = string.ascii_letters\n",
        "        rand_string = ''.join(random.choice(letters) for i in range(length))\n",
        "        elem = (number + '\\t' + rand_string + '\\n')\n",
        "        random_lines.append(elem)\n",
        "\n",
        "    random_lines[-1] = random_lines[-1].rstrip()\n",
        "\n",
        "    return random_lines\n",
        "\n",
        "def to_txt(filename, lst):\n",
        "    with open(filename, 'w') as f:\n",
        "        f.write(''.join(lst))"
      ],
      "metadata": {
        "id": "r8dIBiNYTyUP"
      },
      "execution_count": 37,
      "outputs": []
    },
    {
      "cell_type": "code",
      "source": [
        "data_for_tests = ['test_random_order',\n",
        "                  'test_reverse_order',\n",
        "                  'test_stability']\n",
        "\n",
        "arguments = [[1000, 10, 'random'],\n",
        "             [900, 10, 'reverse'],\n",
        "             [1000, 10, None]]\n",
        "\n",
        "for i in range(len(data_for_tests)):\n",
        "    to_txt(data_for_tests[i] + '.txt', generate_data(*arguments[i]))\n",
        "\n",
        "test_single_element = ['31\\tdgiFATToGK']\n",
        "to_txt('test_single_element.txt', test_single_element)"
      ],
      "metadata": {
        "id": "OAyGFoJg1CNn"
      },
      "execution_count": 38,
      "outputs": []
    },
    {
      "cell_type": "code",
      "source": [],
      "metadata": {
        "id": "NWwtEDYgbhs5"
      },
      "execution_count": null,
      "outputs": []
    }
  ],
  "metadata": {
    "kernelspec": {
      "display_name": "Python 3 (ipykernel)",
      "language": "python",
      "name": "python3"
    },
    "language_info": {
      "codemirror_mode": {
        "name": "ipython",
        "version": 3
      },
      "file_extension": ".py",
      "mimetype": "text/x-python",
      "name": "python",
      "nbconvert_exporter": "python",
      "pygments_lexer": "ipython3",
      "version": "3.10.7"
    },
    "colab": {
      "provenance": []
    }
  },
  "nbformat": 4,
  "nbformat_minor": 0
}