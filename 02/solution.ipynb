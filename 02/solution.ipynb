{
  "cells": [
    {
      "cell_type": "code",
      "source": [
        "import re"
      ],
      "metadata": {
        "id": "X9AEFAh0jF_i"
      },
      "execution_count": 1,
      "outputs": []
    },
    {
      "cell_type": "code",
      "source": [
        "data = []\n",
        "with open('test_input_one.txt', 'r') as file:\n",
        "    for line in file:\n",
        "        data.append(line)"
      ],
      "metadata": {
        "id": "rNygCaeAuREp"
      },
      "execution_count": 14,
      "outputs": []
    },
    {
      "cell_type": "code",
      "source": [
        "data"
      ],
      "metadata": {
        "colab": {
          "base_uri": "https://localhost:8080/"
        },
        "id": "JblarfzLuSJy",
        "outputId": "29e8b29d-9ad2-429b-9f3c-51f7644a7e8e"
      },
      "execution_count": 15,
      "outputs": [
        {
          "output_type": "execute_result",
          "data": {
            "text/plain": [
              "['+7-495-1123212\\tn399tann9nnt3ttnaaan9nann93na9t3a3t9999na3aan9antt3tn93aat3naatt\\n',\n",
              " '+375-123-1234567\\tn399tann9nnt3ttnaaan9nann93na9t3a3t9999na3aan9antt3tn93aat3naat\\n',\n",
              " '+7-495-1123212\\tn399tann9nnt3ttnaaan9nann93na9t3a3t9999na3aan9antt3tn93aat3naa\\n',\n",
              " '+375-123-1234567\\tn399tann9nnt3ttnaaan9nann93na9t3a3t9999na3aan9antt3tn93aat3na']"
            ]
          },
          "metadata": {},
          "execution_count": 15
        }
      ]
    },
    {
      "cell_type": "code",
      "source": [
        "class PhoneNumbersRadixSort():\n",
        "    def __init__(self, data):\n",
        "        self.data = data\n",
        "\n",
        "    def _number_to_int(self, phone_number):\n",
        "        result = re.sub(r'\\D', '', phone_number)\n",
        "        return int(result)\n",
        "\n",
        "    def _data_preprocessing(self, data):\n",
        "        out = []\n",
        "        for line in data:\n",
        "            elem = line.split()\n",
        "            out.append((elem[0], '\\t' + elem[1], self._number_to_int(elem[0])))\n",
        "        return out\n",
        "\n",
        "    def _one_digit_counting_sort(self, arr, exp):\n",
        "        len_arr = len(arr)\n",
        "        base = 10\n",
        "\n",
        "        tmp = [0 for _ in range(base)]\n",
        "        out = [0 for _ in range(len_arr)]\n",
        "\n",
        "        for elem in arr:\n",
        "            index = (elem[2] // exp) % base\n",
        "            tmp[index] += 1\n",
        "\n",
        "        for i in range(1, base):\n",
        "            tmp[i] += tmp[i-1]\n",
        "\n",
        "        for i in range(len_arr-1, -1, -1):\n",
        "            index = (arr[i][2] // exp) % base\n",
        "            out[tmp[index] - 1] = arr[i]\n",
        "            tmp[index] -= 1\n",
        "\n",
        "        for i in range(len_arr):\n",
        "            arr[i] = out[i]\n",
        "\n",
        "        return arr\n",
        "\n",
        "    def _one_digit_radix_sort(self, arr):\n",
        "        tmp = [elem[2] for elem in arr]\n",
        "        max_value = max(tmp)\n",
        "        exp = 1\n",
        "        while max_value / exp >= 1:\n",
        "            self._one_digit_counting_sort(arr, exp)\n",
        "            exp *= 10\n",
        "\n",
        "        return arr\n",
        "\n",
        "    def sort(self):\n",
        "        preprocessed_data = self._data_preprocessing(self.data)\n",
        "        sorted_data = self._one_digit_radix_sort(preprocessed_data)\n",
        "        result_list = [str(elem[0]) + elem[1] for elem in sorted_data]\n",
        "        self.result = [s + '\\n' if s != result_list[-1] else s for s in result_list]\n",
        "        return self.result\n",
        "\n",
        "    def to_txt(self, filename):\n",
        "        with open(filename, 'w') as file:\n",
        "            file.write('\\n'.join(self.result))"
      ],
      "metadata": {
        "id": "MaHcRsD0uJaS"
      },
      "execution_count": 16,
      "outputs": []
    },
    {
      "cell_type": "code",
      "source": [
        "solver = PhoneNumbersRadixSort(data)\n",
        "sorted_data = solver.sort()\n",
        "print(*sorted_data)"
      ],
      "metadata": {
        "colab": {
          "base_uri": "https://localhost:8080/"
        },
        "id": "l0Cqqh-euVea",
        "outputId": "d2049ee0-29b5-4388-ec3c-7c28c9fad3f0"
      },
      "execution_count": 23,
      "outputs": [
        {
          "output_type": "stream",
          "name": "stdout",
          "text": [
            "+7-495-1123212\tn399tann9nnt3ttnaaan9nann93na9t3a3t9999na3aan9antt3tn93aat3naatt\n",
            " +7-495-1123212\tn399tann9nnt3ttnaaan9nann93na9t3a3t9999na3aan9antt3tn93aat3naa\n",
            " +375-123-1234567\tn399tann9nnt3ttnaaan9nann93na9t3a3t9999na3aan9antt3tn93aat3naat\n",
            " +375-123-1234567\tn399tann9nnt3ttnaaan9nann93na9t3a3t9999na3aan9antt3tn93aat3na\n"
          ]
        }
      ]
    },
    {
      "cell_type": "code",
      "source": [
        "sorted_data"
      ],
      "metadata": {
        "colab": {
          "base_uri": "https://localhost:8080/"
        },
        "id": "IThJxnLNxaly",
        "outputId": "b54cde07-2f4a-4579-8027-909701b565a1"
      },
      "execution_count": 20,
      "outputs": [
        {
          "output_type": "execute_result",
          "data": {
            "text/plain": [
              "['+7-495-1123212\\tn399tann9nnt3ttnaaan9nann93na9t3a3t9999na3aan9antt3tn93aat3naatt\\n',\n",
              " '+7-495-1123212\\tn399tann9nnt3ttnaaan9nann93na9t3a3t9999na3aan9antt3tn93aat3naa\\n',\n",
              " '+375-123-1234567\\tn399tann9nnt3ttnaaan9nann93na9t3a3t9999na3aan9antt3tn93aat3naat\\n',\n",
              " '+375-123-1234567\\tn399tann9nnt3ttnaaan9nann93na9t3a3t9999na3aan9antt3tn93aat3na']"
            ]
          },
          "metadata": {},
          "execution_count": 20
        }
      ]
    },
    {
      "cell_type": "code",
      "source": [
        "output = []\n",
        "with open('test_output_one.txt', 'r') as file:\n",
        "    for line in file:\n",
        "        output.append(line)\n",
        "\n",
        "print(*output)"
      ],
      "metadata": {
        "colab": {
          "base_uri": "https://localhost:8080/"
        },
        "id": "nJep3_DiuagJ",
        "outputId": "ef408fb3-f40f-4020-9f7b-8cff9f15fa9c"
      },
      "execution_count": 24,
      "outputs": [
        {
          "output_type": "stream",
          "name": "stdout",
          "text": [
            "+7-495-1123212\tn399tann9nnt3ttnaaan9nann93na9t3a3t9999na3aan9antt3tn93aat3naatt\n",
            " +7-495-1123212\tn399tann9nnt3ttnaaan9nann93na9t3a3t9999na3aan9antt3tn93aat3naa\n",
            " +375-123-1234567\tn399tann9nnt3ttnaaan9nann93na9t3a3t9999na3aan9antt3tn93aat3naat\n",
            " +375-123-1234567\tn399tann9nnt3ttnaaan9nann93na9t3a3t9999na3aan9antt3tn93aat3na\n"
          ]
        }
      ]
    },
    {
      "cell_type": "code",
      "source": [
        "output"
      ],
      "metadata": {
        "colab": {
          "base_uri": "https://localhost:8080/"
        },
        "id": "sOu9XBIt_6Bn",
        "outputId": "84aea4d1-0095-40f4-cf43-f6fae7b4dedc"
      },
      "execution_count": 22,
      "outputs": [
        {
          "output_type": "execute_result",
          "data": {
            "text/plain": [
              "['+7-495-1123212\\tn399tann9nnt3ttnaaan9nann93na9t3a3t9999na3aan9antt3tn93aat3naatt\\n',\n",
              " '+7-495-1123212\\tn399tann9nnt3ttnaaan9nann93na9t3a3t9999na3aan9antt3tn93aat3naa\\n',\n",
              " '+375-123-1234567\\tn399tann9nnt3ttnaaan9nann93na9t3a3t9999na3aan9antt3tn93aat3naat\\n',\n",
              " '+375-123-1234567\\tn399tann9nnt3ttnaaan9nann93na9t3a3t9999na3aan9antt3tn93aat3na']"
            ]
          },
          "metadata": {},
          "execution_count": 22
        }
      ]
    },
    {
      "cell_type": "code",
      "source": [],
      "metadata": {
        "id": "NboU4V3V_7jR"
      },
      "execution_count": null,
      "outputs": []
    }
  ],
  "metadata": {
    "kernelspec": {
      "display_name": "Python 3 (ipykernel)",
      "language": "python",
      "name": "python3"
    },
    "language_info": {
      "codemirror_mode": {
        "name": "ipython",
        "version": 3
      },
      "file_extension": ".py",
      "mimetype": "text/x-python",
      "name": "python",
      "nbconvert_exporter": "python",
      "pygments_lexer": "ipython3",
      "version": "3.10.7"
    },
    "colab": {
      "provenance": []
    }
  },
  "nbformat": 4,
  "nbformat_minor": 0
}