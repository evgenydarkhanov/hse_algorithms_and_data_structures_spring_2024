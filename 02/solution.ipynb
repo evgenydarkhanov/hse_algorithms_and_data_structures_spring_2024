{
  "cells": [
    {
      "cell_type": "code",
      "source": [
        "import re"
      ],
      "metadata": {
        "id": "X9AEFAh0jF_i"
      },
      "execution_count": 1,
      "outputs": []
    },
    {
      "cell_type": "code",
      "source": [
        "# uncomment if you are using Google Colab\n",
        "# !gdown 1ng8jLp5dQ9LCIqPeQFHmP7bD4M0-RuV7"
      ],
      "metadata": {
        "colab": {
          "base_uri": "https://localhost:8080/"
        },
        "id": "eimbxYxv6xkT",
        "outputId": "f9bbd8b9-aaf0-4e49-a813-09f14c3af74b"
      },
      "execution_count": 2,
      "outputs": [
        {
          "output_type": "stream",
          "name": "stdout",
          "text": [
            "Downloading...\n",
            "From: https://drive.google.com/uc?id=1ng8jLp5dQ9LCIqPeQFHmP7bD4M0-RuV7\n",
            "To: /content/data_input.txt\n",
            "\r  0% 0.00/320 [00:00<?, ?B/s]\r100% 320/320 [00:00<00:00, 1.22MB/s]\n"
          ]
        }
      ]
    },
    {
      "cell_type": "code",
      "source": [
        "data = []\n",
        "\n",
        "with open('data_input.txt', 'r') as file:\n",
        "    for line in file:\n",
        "        data.append(line)\n",
        "\n",
        "print(*data)"
      ],
      "metadata": {
        "colab": {
          "base_uri": "https://localhost:8080/"
        },
        "id": "fWospHbQ7GXk",
        "outputId": "bde9cbd8-70df-476b-f079-b71c9b23438b"
      },
      "execution_count": 3,
      "outputs": [
        {
          "output_type": "stream",
          "name": "stdout",
          "text": [
            "+7-495-1123212\tn399tann9nnt3ttnaaan9nann93na9t3a3t9999na3aan9antt3tn93aat3naatt\n",
            " +375-123-1234567\tn399tann9nnt3ttnaaan9nann93na9t3a3t9999na3aan9antt3tn93aat3naat\n",
            " +7-495-1123212\tn399tann9nnt3ttnaaan9nann93na9t3a3t9999na3aan9antt3tn93aat3naa\n",
            " +375-123-1234567\tn399tann9nnt3ttnaaan9nann93na9t3a3t9999na3aan9antt3tn93aat3na\n"
          ]
        }
      ]
    },
    {
      "cell_type": "code",
      "source": [
        "data"
      ],
      "metadata": {
        "colab": {
          "base_uri": "https://localhost:8080/"
        },
        "id": "116Pby8-Geci",
        "outputId": "b17f2e2c-2c34-4117-816e-bf76a7fc8a29"
      },
      "execution_count": 4,
      "outputs": [
        {
          "output_type": "execute_result",
          "data": {
            "text/plain": [
              "['+7-495-1123212\\tn399tann9nnt3ttnaaan9nann93na9t3a3t9999na3aan9antt3tn93aat3naatt\\n',\n",
              " '+375-123-1234567\\tn399tann9nnt3ttnaaan9nann93na9t3a3t9999na3aan9antt3tn93aat3naat\\n',\n",
              " '+7-495-1123212\\tn399tann9nnt3ttnaaan9nann93na9t3a3t9999na3aan9antt3tn93aat3naa\\n',\n",
              " '+375-123-1234567\\tn399tann9nnt3ttnaaan9nann93na9t3a3t9999na3aan9antt3tn93aat3na']"
            ]
          },
          "metadata": {},
          "execution_count": 4
        }
      ]
    },
    {
      "cell_type": "code",
      "source": [
        "class PhoneNumbersRadixSort():\n",
        "    def __init__(self, data):\n",
        "        self.data = data\n",
        "\n",
        "    def _number_to_int(self, phone_number):\n",
        "        result = re.sub(r'\\D', '', phone_number)\n",
        "        return int(result)\n",
        "\n",
        "    def _data_preprocessing(self, data):\n",
        "        out = []\n",
        "        for line in data:\n",
        "            elem = line.split()\n",
        "            out.append((elem[0], '\\t' + elem[1], self._number_to_int(elem[0])))\n",
        "        return out\n",
        "\n",
        "    def _one_digit_counting_sort(self, arr, exp):\n",
        "        len_arr = len(arr)\n",
        "        base = 10\n",
        "\n",
        "        tmp = [0 for _ in range(base)]\n",
        "        out = [0 for _ in range(len_arr)]\n",
        "\n",
        "        for elem in arr:\n",
        "            index = (elem[2] // exp) % base\n",
        "            tmp[index] += 1\n",
        "\n",
        "        for i in range(1, base):\n",
        "            tmp[i] += tmp[i-1]\n",
        "\n",
        "        for i in range(len_arr-1, -1, -1):\n",
        "            index = (arr[i][2] // exp) % base\n",
        "            out[tmp[index] - 1] = arr[i]\n",
        "            tmp[index] -= 1\n",
        "\n",
        "        for i in range(len_arr):\n",
        "            arr[i] = out[i]\n",
        "\n",
        "        return arr\n",
        "\n",
        "    def _one_digit_radix_sort(self, arr):\n",
        "        tmp = [elem[2] for elem in arr]\n",
        "        max_value = max(tmp)\n",
        "        exp = 1\n",
        "        while max_value / exp >= 1:\n",
        "            self._one_digit_counting_sort(arr, exp)\n",
        "            exp *= 10\n",
        "\n",
        "        return arr\n",
        "\n",
        "    def sort(self):\n",
        "        preprocessed_data = self._data_preprocessing(self.data)\n",
        "        sorted_data = self._one_digit_radix_sort(preprocessed_data)\n",
        "        self.result = [str(elem[0]) + elem[1] for elem in sorted_data]\n",
        "        return self.result\n",
        "\n",
        "    def to_txt(self, filename):\n",
        "        with open(filename, 'w') as file:\n",
        "            file.write('\\n'.join(self.result))"
      ],
      "metadata": {
        "id": "3dv4QgQECEPW"
      },
      "execution_count": 5,
      "outputs": []
    },
    {
      "cell_type": "code",
      "source": [
        "pnrs = PhoneNumbersRadixSort(data)\n",
        "sorted_data = pnrs.sort()\n",
        "pnrs.to_txt('output.txt')"
      ],
      "metadata": {
        "id": "gYUt8evv6twA"
      },
      "execution_count": 6,
      "outputs": []
    },
    {
      "cell_type": "code",
      "source": [
        "output = []\n",
        "\n",
        "with open('output.txt', 'r') as file:\n",
        "    for line in file:\n",
        "        output.append(line)\n",
        "\n",
        "print(*output)"
      ],
      "metadata": {
        "colab": {
          "base_uri": "https://localhost:8080/"
        },
        "id": "AMszb7I3-IKP",
        "outputId": "b8a13c4a-48b3-4b8a-a977-af9b39a5c214"
      },
      "execution_count": 7,
      "outputs": [
        {
          "output_type": "stream",
          "name": "stdout",
          "text": [
            "+7-495-1123212\tn399tann9nnt3ttnaaan9nann93na9t3a3t9999na3aan9antt3tn93aat3naatt\n",
            " +7-495-1123212\tn399tann9nnt3ttnaaan9nann93na9t3a3t9999na3aan9antt3tn93aat3naa\n",
            " +375-123-1234567\tn399tann9nnt3ttnaaan9nann93na9t3a3t9999na3aan9antt3tn93aat3naat\n",
            " +375-123-1234567\tn399tann9nnt3ttnaaan9nann93na9t3a3t9999na3aan9antt3tn93aat3na\n"
          ]
        }
      ]
    },
    {
      "cell_type": "code",
      "source": [
        "output"
      ],
      "metadata": {
        "colab": {
          "base_uri": "https://localhost:8080/"
        },
        "id": "sOu9XBIt_6Bn",
        "outputId": "dc3d7954-8cf0-4666-ab24-dcb40405ef19"
      },
      "execution_count": 8,
      "outputs": [
        {
          "output_type": "execute_result",
          "data": {
            "text/plain": [
              "['+7-495-1123212\\tn399tann9nnt3ttnaaan9nann93na9t3a3t9999na3aan9antt3tn93aat3naatt\\n',\n",
              " '+7-495-1123212\\tn399tann9nnt3ttnaaan9nann93na9t3a3t9999na3aan9antt3tn93aat3naa\\n',\n",
              " '+375-123-1234567\\tn399tann9nnt3ttnaaan9nann93na9t3a3t9999na3aan9antt3tn93aat3naat\\n',\n",
              " '+375-123-1234567\\tn399tann9nnt3ttnaaan9nann93na9t3a3t9999na3aan9antt3tn93aat3na']"
            ]
          },
          "metadata": {},
          "execution_count": 8
        }
      ]
    },
    {
      "cell_type": "code",
      "source": [],
      "metadata": {
        "id": "NboU4V3V_7jR"
      },
      "execution_count": 8,
      "outputs": []
    }
  ],
  "metadata": {
    "kernelspec": {
      "display_name": "Python 3 (ipykernel)",
      "language": "python",
      "name": "python3"
    },
    "language_info": {
      "codemirror_mode": {
        "name": "ipython",
        "version": 3
      },
      "file_extension": ".py",
      "mimetype": "text/x-python",
      "name": "python",
      "nbconvert_exporter": "python",
      "pygments_lexer": "ipython3",
      "version": "3.10.7"
    },
    "colab": {
      "provenance": []
    }
  },
  "nbformat": 4,
  "nbformat_minor": 0
}