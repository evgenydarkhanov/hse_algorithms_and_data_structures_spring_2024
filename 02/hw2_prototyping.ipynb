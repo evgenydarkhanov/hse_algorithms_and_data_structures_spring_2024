{
  "cells": [
    {
      "cell_type": "code",
      "source": [
        "import re"
      ],
      "metadata": {
        "id": "66a_eYMO4CJb"
      },
      "execution_count": 9,
      "outputs": []
    },
    {
      "cell_type": "code",
      "source": [
        "# препроцессинг номеров\n",
        "def number_to_int(phone_number):\n",
        "    result = int(re.sub(r'\\D', '', phone_number))\n",
        "    return result\n",
        "\n",
        "# превращает в кортеж (телефон, str, int(телефон))\n",
        "def convert_to_tuple(line):\n",
        "    tmp = line.split()\n",
        "    return (tmp[0], tmp[1], number_to_int(tmp[0]))\n",
        "\n",
        "# читает данные из файла, преобразует к формату (телефон, str, int(телефон))\n",
        "def data_reading(lst, filename):\n",
        "    with open(filename, 'r') as file:\n",
        "        for line in file:\n",
        "            lst.append(convert_to_tuple(line))\n",
        "\n",
        "# преобразует сортированные данные к исходному формату\n",
        "def data_to_original_format(sorted_data):\n",
        "    result_tmp = [elem[0] + '\\t' + elem[1] for elem in sorted_data]\n",
        "    result = [s + '\\n' if s != result_tmp[-1] else s for s in result_tmp]\n",
        "    return result"
      ],
      "metadata": {
        "id": "DOcS2KcgQuUg"
      },
      "execution_count": 10,
      "outputs": []
    },
    {
      "cell_type": "code",
      "source": [
        "# удобнее сделать классом\n",
        "class PhoneNumbersRadixSort:\n",
        "    def __init__(self, data, result=None):\n",
        "        self.data = data\n",
        "        self.result = result\n",
        "\n",
        "    def counting_sort(self, arr, digit, base, key):\n",
        "        length = len(arr)\n",
        "\n",
        "        tmp = [0 for _ in range(base)]\n",
        "        out = [0 for _ in range(length)]\n",
        "\n",
        "        for elem in arr:\n",
        "            index = (key(elem) // digit) % base\n",
        "            tmp[index] += 1\n",
        "\n",
        "        for i in range(1, base):\n",
        "            tmp[i] += tmp[i-1]\n",
        "\n",
        "        for elem in arr[::-1]:\n",
        "            index = (key(elem) // digit) % base\n",
        "            out[tmp[index] - 1] = elem\n",
        "            tmp[index] -= 1\n",
        "\n",
        "        for i in range(length):\n",
        "            arr[i] = out[i]\n",
        "\n",
        "        return arr\n",
        "\n",
        "    def radix_sort(self, arr, key):\n",
        "        base = 10\n",
        "        digit = 1\n",
        "        tmp = [key(elem) for elem in arr]\n",
        "        max_value = max(tmp)\n",
        "        while max_value / digit >= 1:\n",
        "            self.counting_sort(arr, digit, base, key)\n",
        "            digit *= 10\n",
        "\n",
        "        return arr\n",
        "\n",
        "    def sort(self, key):\n",
        "        sorted_data = self.radix_sort(self.data, key=key)\n",
        "        result_list = [elem[0] + '\\t' + elem[1] for elem in sorted_data]\n",
        "        self.result = [s + '\\n' if s != result_list[-1] else s for s in result_list]\n",
        "        return self.result"
      ],
      "metadata": {
        "id": "nyc3rM8jZVsf"
      },
      "execution_count": 11,
      "outputs": []
    },
    {
      "cell_type": "code",
      "source": [
        "data = []\n",
        "data_reading(data, 'original_data.txt')\n",
        "\n",
        "solver = PhoneNumbersRadixSort(data)\n",
        "sorted_data = solver.sort(key=lambda x: x[2])\n",
        "\n",
        "print(*sorted_data)"
      ],
      "metadata": {
        "colab": {
          "base_uri": "https://localhost:8080/"
        },
        "id": "YAk0DurZalEg",
        "outputId": "e1d5b418-c5c5-4629-ccb7-aaed44d07a43"
      },
      "execution_count": 12,
      "outputs": [
        {
          "output_type": "stream",
          "name": "stdout",
          "text": [
            "+7-495-1123212\tn399tann9nnt3ttnaaan9nann93na9t3a3t9999na3aan9antt3tn93aat3naatt\n",
            " +7-495-1123212\tn399tann9nnt3ttnaaan9nann93na9t3a3t9999na3aan9antt3tn93aat3naa\n",
            " +375-123-1234567\tn399tann9nnt3ttnaaan9nann93na9t3a3t9999na3aan9antt3tn93aat3naat\n",
            " +375-123-1234567\tn399tann9nnt3ttnaaan9nann93na9t3a3t9999na3aan9antt3tn93aat3na\n"
          ]
        }
      ]
    },
    {
      "cell_type": "markdown",
      "source": [
        "генерация данных для тестов"
      ],
      "metadata": {
        "id": "R7Qi83pS3his"
      }
    },
    {
      "cell_type": "code",
      "source": [
        "import random\n",
        "import string"
      ],
      "metadata": {
        "id": "-8Kcifts3k-N"
      },
      "execution_count": 13,
      "outputs": []
    },
    {
      "cell_type": "code",
      "source": [
        "def generate_data_random(lines, length):\n",
        "    random_lines = []\n",
        "    numbers = string.digits\n",
        "    letters = '39ant'\n",
        "\n",
        "    for i in range(lines):\n",
        "        if i % 2 == 0:\n",
        "            rand_number = '+7-' + ''.join(random.choice(numbers) for i in range(3)) + '-' + ''.join(random.choice(numbers) for i in range(7))\n",
        "        else:\n",
        "            rand_number = '+375-' + ''.join(random.choice(numbers) for i in range(3)) + '-' + ''.join(random.choice(numbers) for i in range(7))\n",
        "\n",
        "        rand_string = ''.join(random.choice(letters) for i in range(length))\n",
        "        elem = (rand_number + '\\t' + rand_string + '\\n')\n",
        "        random_lines.append(elem)\n",
        "\n",
        "    random.shuffle(random_lines)\n",
        "    random_lines[-1] = random_lines[-1].rstrip()\n",
        "    return random_lines"
      ],
      "metadata": {
        "id": "48j5VWp8NYTB"
      },
      "execution_count": 14,
      "outputs": []
    },
    {
      "cell_type": "code",
      "source": [
        "def generate_data_reverse(lines, length):\n",
        "    random_lines = []\n",
        "    numbers = string.digits\n",
        "    letters = '39ant'\n",
        "\n",
        "    for i in range(lines):\n",
        "        if i % 2 == 0:\n",
        "            rand_number = '+7-' + ''.join(random.choice(numbers) for i in range(3)) + '-' + ''.join(random.choice(numbers) for i in range(7))\n",
        "        else:\n",
        "            rand_number = '+375-' + ''.join(random.choice(numbers) for i in range(3)) + '-' + ''.join(random.choice(numbers) for i in range(7))\n",
        "\n",
        "        rand_string = ''.join(random.choice(letters) for i in range(length))\n",
        "        elem = (rand_number + '\\t' + rand_string + '\\n')\n",
        "\n",
        "        random_lines.append(convert_to_tuple(elem))\n",
        "\n",
        "    random_lines.sort(key = lambda x: -x[2])\n",
        "    random_lines = [elem[0] + '\\t' + elem[1] + '\\n' for elem in random_lines]\n",
        "\n",
        "    random_lines[-1] = random_lines[-1].rstrip()\n",
        "    return random_lines"
      ],
      "metadata": {
        "id": "B2vFUjyJC0Oi"
      },
      "execution_count": 15,
      "outputs": []
    },
    {
      "cell_type": "code",
      "source": [
        "def generate_data_stability(lines, length):\n",
        "    random_lines = []\n",
        "    numbers = string.digits\n",
        "    letters = '39ant'\n",
        "\n",
        "    rand_numbers = []\n",
        "    for i in range(lines // 10):\n",
        "        if i % 2 == 0:\n",
        "            rand_number = '+7-' + ''.join(random.choice(numbers) for i in range(3)) + '-' + ''.join(random.choice(numbers) for i in range(7))\n",
        "        else:\n",
        "            rand_number = '+375-' + ''.join(random.choice(numbers) for i in range(3)) + '-' + ''.join(random.choice(numbers) for i in range(7))\n",
        "        rand_numbers.append(rand_number)\n",
        "\n",
        "    rand_numbers *= 10\n",
        "\n",
        "    for i in range(lines):\n",
        "        rand_string = ''.join(random.choice(letters) for i in range(length))\n",
        "        elem = (rand_numbers[i] + '\\t' + rand_string + '\\n')\n",
        "        random_lines.append(elem)\n",
        "\n",
        "    random.shuffle(random_lines)\n",
        "    random_lines[-1] = random_lines[-1].rstrip()\n",
        "    return random_lines"
      ],
      "metadata": {
        "id": "Q7oxUvBjNYVh"
      },
      "execution_count": 16,
      "outputs": []
    },
    {
      "cell_type": "code",
      "source": [
        "def to_txt(filename, lst):\n",
        "    with open(filename, 'w') as f:\n",
        "        f.write(''.join(lst))"
      ],
      "metadata": {
        "id": "dnspKHqsOAU-"
      },
      "execution_count": 17,
      "outputs": []
    },
    {
      "cell_type": "code",
      "source": [
        "test_random_order = generate_data_random(1000, 64)\n",
        "to_txt('test_random_order.txt', test_random_order)\n",
        "!cat 'test_random_order.txt' | head -10"
      ],
      "metadata": {
        "colab": {
          "base_uri": "https://localhost:8080/"
        },
        "id": "yZf6y_pbDrVB",
        "outputId": "0d70d566-305b-430b-999e-8c039c4bcd7b"
      },
      "execution_count": 18,
      "outputs": [
        {
          "output_type": "stream",
          "name": "stdout",
          "text": [
            "+375-824-9613942\tn9t39n3nntaa3n9tan3nntn99t39t999a3nn3aaa3ttan3t3t933nn99n3na3993\n",
            "+7-111-7792065\t9anta333tnna9tatatn399a9ttaana93a939an39tt3ata93993n3ta9t9a9nta9\n",
            "+375-885-9001329\tnaa9ata33ata9tta9aaa3ttntt9taa933399993ta33nt9tat3ta3ttaa3tn3t3a\n",
            "+375-615-5125145\tn3nt3t339tatt93t3tn9nn3333n9taatnnnat3t9t3an3atna9a393an3an9ntnt\n",
            "+7-901-8802804\ta9n3993na993a9n999n3a9aan9n9n99n33tt3nanan3a93tnaatt9a3n933tt3tt\n",
            "+7-923-6242333\t9t93nta393ataan3att9attnt939t99a3na9atnannnn39tna9ntata9n939t999\n",
            "+375-593-7511296\ttn3nt33atntant33tn9atatn3nnn9ttttanaat9nt99t3tant9na9tn3na3t3tat\n",
            "+375-292-2160887\tt3na3ant3n99nt9tn39n939tn99993393a99333ataa39aa99tn9t999333a9ta9\n",
            "+375-659-0972206\tntnnn393natt9t3taat3n9393natn3ata9ta3attnt93aa39nn33n9tttaan3a9t\n",
            "+375-130-8177197\tnt9annannaaa9ann3na9tta939a93atnnttta3antn9tt9atnnanannan33n99nn\n"
          ]
        }
      ]
    },
    {
      "cell_type": "code",
      "source": [
        "test_reverse_order = generate_data_reverse(1000, 64)\n",
        "to_txt('test_reverse_order.txt', test_reverse_order)\n",
        "!cat 'test_reverse_order.txt' | head -10"
      ],
      "metadata": {
        "colab": {
          "base_uri": "https://localhost:8080/"
        },
        "id": "PyaRMqy5OmGE",
        "outputId": "c70b3360-1a3b-4b6b-836a-1039f6461a58"
      },
      "execution_count": 19,
      "outputs": [
        {
          "output_type": "stream",
          "name": "stdout",
          "text": [
            "+375-999-6759463\t9nn9nt3399nat39ntnaaa33naa939t93a9ntn3taa9naa39t3a3tt3a9tn399n39\n",
            "+375-998-0261406\ttttan3ta3annatnttat93nnanntntnna9nnanaan93n9taaa3n33n99tnntnat9a\n",
            "+375-996-9775593\tt333t3aan33atttn3t333aaata9a933n9nna9ttt3t999n9nta93a3393aant33n\n",
            "+375-996-5184258\ta9n3nn39t3aa3nn3t9a9a3939n99t3t9nnn3a9t9t39na39ta339ntnnttttan9t\n",
            "+375-994-1365703\ttt99t3tt9n3nn33tn9nttn3atntttt9tat9a9a93n9t9n33a93t9nt9tan999taa\n",
            "+375-989-4391461\tt9naa3t339at3tnna9a3na9a99tatata9t3a9993aa3n9n3tnn9naaa3339a3t99\n",
            "+375-988-3631312\t9anna9n3a333ttaaat9339a33anttnn93tttta9aaaan9n9nnt99t99aaa9ttna3\n",
            "+375-986-9426829\tannanaa33t3ataatt3t9t3393atta99a93ata9ata9ta3t99n9393tnaattnaaat\n",
            "+375-985-8112769\t3993939aaa393na3ta33att3ntan3nttn99t9ta3n3nttnt9993tat3ntt3t93tt\n",
            "+375-985-3028912\tt993nna33nan9t9t93a9n9ntannn39t3a9n939attannnt933t3933tt9naana9a\n"
          ]
        }
      ]
    },
    {
      "cell_type": "code",
      "source": [
        "test_stability = generate_data_stability(1000, 64)\n",
        "to_txt('test_stability.txt', test_stability)\n",
        "!cat 'test_stability.txt' | tail -10"
      ],
      "metadata": {
        "colab": {
          "base_uri": "https://localhost:8080/"
        },
        "id": "8O10Tz8VKJDU",
        "outputId": "95b76613-97c3-4e20-b910-cd172001ecc1"
      },
      "execution_count": 20,
      "outputs": [
        {
          "output_type": "stream",
          "name": "stdout",
          "text": [
            "+375-350-6207083\tt3nan99ta9t9n9at3n9nnt9999tn3a33n9t9att9a3naatn39339tan3a93atttt\n",
            "+375-082-2661563\t9t33na33333t33tnnnn9naa99ntnn333an3t9aatnn9n3aaattta3n3naanta3na\n",
            "+375-536-3403392\tta3t99n9nnta3n3aataa33nn93nttn9a9n9t9nntna3nnt3n9t93tann9t9nnt3a\n",
            "+7-254-3675327\tt3annt9n3tt99n99t93atntantan9t9n9tn9t39ta3nat99a33t99nt9tn3nnnnt\n",
            "+7-260-1169992\ttn9tat99a3aa99t9aat93n3tt3atnt99nnaat9tt3t9tn9aa3atntt9a3t99aatt\n",
            "+375-406-6730024\t93naa93taa99nn3tn399ntnann39n3399a3aat3n99nt999933nnttttanaann99\n",
            "+375-094-1966493\t3nnat33nt99nna39ttn933at3n3a99nt9nn3a9n93tan3a9a999t93a333a3t3tt\n",
            "+7-031-1200079\tt933a93tat9naan3nta3na93933n933an3nttnaa3t9tatnan99aantatt9n39tt\n",
            "+375-649-2607617\tta9tn3n9t99339ann3tatt3a9ttna3ttn9tntt9ta9tnannttnt9t39939t9at3t\n",
            "+375-574-5793461\t9t339a3t933ttat39attttn9ant99nnt3tnn99tnantnn9n3ttnt33tnat99t3n9"
          ]
        }
      ]
    },
    {
      "cell_type": "code",
      "source": [
        "test_single_element = ['+7-495-1123212\\tn399tann9nnt3ttnaaan9nann93na9t3a3t9999na3aan9antt3tn93aat3naa']\n",
        "to_txt('test_single_element.txt', test_single_element)\n",
        "!cat 'test_single_element.txt'"
      ],
      "metadata": {
        "colab": {
          "base_uri": "https://localhost:8080/"
        },
        "id": "y4bquB4e2R20",
        "outputId": "b84e7e9a-7156-4527-dd3d-e3d8f918862d"
      },
      "execution_count": 21,
      "outputs": [
        {
          "output_type": "stream",
          "name": "stdout",
          "text": [
            "+7-495-1123212\tn399tann9nnt3ttnaaan9nann93na9t3a3t9999na3aan9antt3tn93aat3naa"
          ]
        }
      ]
    },
    {
      "cell_type": "code",
      "source": [],
      "metadata": {
        "id": "5B8xlT3LejC8"
      },
      "execution_count": null,
      "outputs": []
    }
  ],
  "metadata": {
    "kernelspec": {
      "display_name": "Python 3 (ipykernel)",
      "language": "python",
      "name": "python3"
    },
    "language_info": {
      "codemirror_mode": {
        "name": "ipython",
        "version": 3
      },
      "file_extension": ".py",
      "mimetype": "text/x-python",
      "name": "python",
      "nbconvert_exporter": "python",
      "pygments_lexer": "ipython3",
      "version": "3.10.7"
    },
    "colab": {
      "provenance": []
    }
  },
  "nbformat": 4,
  "nbformat_minor": 0
}